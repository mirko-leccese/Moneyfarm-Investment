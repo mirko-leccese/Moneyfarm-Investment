{
 "cells": [
  {
   "cell_type": "code",
   "execution_count": 1,
   "id": "0db7930e",
   "metadata": {},
   "outputs": [],
   "source": [
    "import numpy as np\n",
    "import math\n",
    "import matplotlib.pyplot as plt"
   ]
  },
  {
   "cell_type": "markdown",
   "id": "dee193d2",
   "metadata": {},
   "source": [
    "## MoneyFarm: cost and gain estimation\n",
    "\n",
    "**Moneyfarm** is a digital investment platform founded in Italy in 2011. It offers a range of investment portfolios designed to meet the needs of different types of investors, from beginners to experienced ones. Moneyfarm uses a combination of technology and human expertise to provide personalized investment advice and portfolio management. The platform offers a user-friendly interface, low fees, and a mobile app to make investing accessible and convenient for everyone. Moneyfarm is regulated by the Financial Conduct Authority (FCA) in the UK and the Consob in Italy, ensuring that it operates within strict regulatory guidelines. It has since expanded to other European countries, including the UK, Germany, and France.\n",
    "\n",
    "Moneyfarm offers a range of investment portfolios that invest in a diversified mix of assets, including stocks, bonds, and commodities. The portfolios are designed to match different risk profiles, from conservative to aggressive, depending on an investor's individual goals and preferences. \n",
    "\n",
    "Moneyfarm invests primarily in **ETFs**. ETFs, or exchange-traded funds, are investment funds that trade on an exchange like a stock. ETFs are designed to *track the performance of a specific index, such as the S&P 500 or the FTSE 100*. By investing in an ETF, investors can gain exposure to a diversified portfolio of assets that mirror the performance of the underlying index.\n",
    "\n",
    "Needless to say, Moneyfarm comes with some costs associated with the fact that they manage your money for you and handle the taxes on capital gains. Costs are publicly available on their website: [Moneyfarm costs](https://www.moneyfarm.com/it/ppc-confronta-costi/?gclid=Cj0KCQiAo-yfBhD_ARIsANr56g7pMWc23j_2IuK-5eHx05sK4AQI111QEPvIaPHW0gPwfWsPAZk7w4YaAm2NEALw_wcB).\n",
    "\n",
    "In the following, we simply calculate these costs and the net gain, based on an hypothezied average annual capital gain, that the users can tune. We assume that the investor is investing their money on a monthly basis, and he/she may add extra liquidity to his/her portfolio as it becomes available."
   ]
  },
  {
   "cell_type": "code",
   "execution_count": 2,
   "id": "348356cb",
   "metadata": {},
   "outputs": [],
   "source": [
    "# Defining variables\n",
    "\n",
    "# Average annual capital gain (% on total invested money)\n",
    "average_annual_gain = 0.045\n",
    "\n",
    "# Taxes: 26% (Italy) on capital gain \n",
    "annual_tax = 0.26\n",
    "bid_ask = 0.0028\n",
    "\n",
    "# Moneyfarm cost\n",
    "mf_costs = np.array([.01, 0.0075, 0.0050, 0.0040])\n",
    "\n",
    "\n",
    "# Investment variables\n",
    "monhtly_investement = [100, 150, 200, 250, 500, 1000]\n",
    "initial_investement = 5000"
   ]
  },
  {
   "cell_type": "code",
   "execution_count": 3,
   "id": "bf674362",
   "metadata": {},
   "outputs": [],
   "source": [
    "#"
   ]
  }
 ],
 "metadata": {
  "kernelspec": {
   "display_name": "Python 3.9.12 ('base')",
   "language": "python",
   "name": "python3912jvsc74a57bd03d597f4c481aa0f25dceb95d2a0067e73c0966dcbd003d741d821a7208527ecf"
  },
  "language_info": {
   "codemirror_mode": {
    "name": "ipython",
    "version": 3
   },
   "file_extension": ".py",
   "mimetype": "text/x-python",
   "name": "python",
   "nbconvert_exporter": "python",
   "pygments_lexer": "ipython3",
   "version": "3.9.12"
  }
 },
 "nbformat": 4,
 "nbformat_minor": 5
}
